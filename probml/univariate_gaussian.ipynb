{
 "cells": [
  {
   "cell_type": "markdown",
   "metadata": {},
   "source": [
    "Example in 21.5.1 Murphy book or 10.1.3 Bishop book\n",
    "# Dataset"
   ]
  },
  {
   "cell_type": "code",
   "execution_count": 316,
   "metadata": {
    "collapsed": false
   },
   "outputs": [],
   "source": [
    "from IPython.core.interactiveshell import InteractiveShell\n",
    "# InteractiveShell.ast_node_interactivity = \"all\"\n",
    "InteractiveShell.ast_node_interactivity = \"last\"\n",
    "\n",
    "from __future__ import division\n",
    "import numpy as np\n",
    "import scipy as sp\n",
    "import scipy.special\n",
    "import scipy.stats\n",
    "import math"
   ]
  },
  {
   "cell_type": "code",
   "execution_count": 317,
   "metadata": {
    "collapsed": false
   },
   "outputs": [
    {
     "data": {
      "text/plain": [
       "array([ 0.97600107, -0.70022378, -1.85818355,  1.8304213 ,  0.27345643,\n",
       "       -1.04084643,  0.16063674, -0.25436052, -2.44696353, -2.28197049])"
      ]
     },
     "execution_count": 317,
     "metadata": {},
     "output_type": "execute_result"
    }
   ],
   "source": [
    "mu_true, tau_true = 0, 1\n",
    "N = 100\n",
    "data = np.random.normal(mu_true, tau_true, N)\n",
    "data[:10]"
   ]
  },
  {
   "cell_type": "markdown",
   "metadata": {},
   "source": [
    "# Algorithm\n",
    "Here we set the hyperparameters $\\mu_0$, $\\kappa_0$, $a_0$, $b_0$"
   ]
  },
  {
   "cell_type": "code",
   "execution_count": 318,
   "metadata": {
    "collapsed": false
   },
   "outputs": [
    {
     "data": {
      "text/plain": [
       "{'alpha': 50.0,\n",
       " 'beta': 57.166256164571017,\n",
       " 'kappa': 100,\n",
       " 'mu': 0.011842919993999414}"
      ]
     },
     "execution_count": 318,
     "metadata": {},
     "output_type": "execute_result"
    }
   ],
   "source": [
    "a_0, b_0, mu_0, kappa_0 = 0, 0, 0, 0\n",
    "m = np.mean(data)\n",
    "truePost = dict()\n",
    "truePost['mu'] = np.mean(data)\n",
    "truePost['kappa'] = N\n",
    "truePost['alpha'] = N/2\n",
    "truePost['beta'] = 1 / 2 * np.sum((data - m)**2)\n",
    "\n",
    "m\n",
    "truePost"
   ]
  },
  {
   "cell_type": "markdown",
   "metadata": {},
   "source": [
    "Iterative main"
   ]
  },
  {
   "cell_type": "code",
   "execution_count": 319,
   "metadata": {
    "collapsed": false
   },
   "outputs": [
    {
     "data": {
      "text/plain": [
       "4"
      ]
     },
     "execution_count": 319,
     "metadata": {},
     "output_type": "execute_result"
    }
   ],
   "source": [
    "# Initialize VB to fit univariate gaussian\n",
    "a_N = 2.5; b_N = 1\n",
    "mu_N = 0.5; kappa_N = 5;\n",
    "\n",
    "Lbound = []\n",
    "Lq = 0\n",
    "max_iter = 1000\n",
    "iter = 0\n",
    "converged = False\n",
    "\n",
    "while iter < max_iter and not converged:\n",
    "    iter += 1\n",
    "    Lq_old = Lq\n",
    "    \n",
    "    # Updating q(mu)\n",
    "    E_lambda = a_N / b_N\n",
    "    \n",
    "    mu_N = (kappa_0 * mu_0 + N * m) / (kappa_0 + N)\n",
    "    kappa_N = (kappa_0 + N) * E_lambda\n",
    "#     print kappa_N\n",
    "    \n",
    "    # Updating q(lambda)\n",
    "    E_mu = mu_N\n",
    "    E_mu2 = 1/kappa_N + mu_N**2\n",
    "    \n",
    "    a_N = a_0 + (N+1) / 2\n",
    "    b_N = b_0 + kappa_0 * (E_mu2 + mu_0**2 - 2 * E_mu * mu_0) + 1/2 * np.sum(data**2 + E_mu2 - 2 * E_mu * data)\n",
    "#     b_N = b_0 + 1/2 * ((np.sum(data**2) + kappa_0 * mu_0**2) - 2 * E_mu *(np.sum(data) + kappa_0 * mu_0) + E_mu2*(kappa_0+N));\n",
    "#     print b_N\n",
    "    \n",
    "    # Check the convergence of lower bound\n",
    "    Lq = 1/2 * np.log(1/kappa_N) + sp.special.gammaln(a_N) - a_N * np.log(b_N)\n",
    "    Lbound += [Lq]\n",
    "    \n",
    "    assert iter <=1 or Lq - Lq_old > -0.000001\n",
    "        \n",
    "    if iter > 1 and np.abs(Lq - Lq_old) < 0.000001:\n",
    "        converged = True\n",
    "    \n",
    "converged\n",
    "iter"
   ]
  },
  {
   "cell_type": "markdown",
   "metadata": {},
   "source": [
    "# Plotting results"
   ]
  },
  {
   "cell_type": "code",
   "execution_count": 320,
   "metadata": {
    "collapsed": false
   },
   "outputs": [
    {
     "data": {
      "text/plain": [
       "<matplotlib.text.Text at 0x1ba9cda0>"
      ]
     },
     "execution_count": 320,
     "metadata": {},
     "output_type": "execute_result"
    },
    {
     "data": {
      "image/png": "[encoded data removed]",
      "text/plain": [
       "<matplotlib.figure.Figure at 0x1b1014a8>"
      ]
     },
     "metadata": {},
     "output_type": "display_data"
    }
   ],
   "source": [
    "import matplotlib.pyplot as plt\n",
    "from matplotlib import rc\n",
    "from pylab import *\n",
    "\n",
    "magic_cmds = \"\"\"%matplotlib inline\n",
    "\"\"\"\n",
    "\n",
    "try:\n",
    "    if (__IPYTHON__):\n",
    "        for magic_cmd in magic_cmds.splitlines():\n",
    "            get_ipython().magic(magic_cmd[1:])\n",
    "except NameError:\n",
    "    pass\n",
    "\n",
    "plt.plot(np.arange(1,iter+1),Lbound)\n",
    "xticks(np.arange(1,iter+1))\n",
    "title('Lower bound vs iteration')"
   ]
  },
  {
   "cell_type": "code",
   "execution_count": 321,
   "metadata": {
    "collapsed": false
   },
   "outputs": [
    {
     "data": {
      "text/plain": [
       "<matplotlib.contour.QuadContourSet at 0x1bd486a0>"
      ]
     },
     "execution_count": 321,
     "metadata": {},
     "output_type": "execute_result"
    },
    {
     "data": {
      "image/png": "[encoded data removed]",
      "text/plain": [
       "<matplotlib.figure.Figure at 0x1b9fef60>"
      ]
     },
     "metadata": {},
     "output_type": "display_data"
    }
   ],
   "source": [
    "# delta = 0.25\n",
    "# x = np.arange(-1, 1, delta)\n",
    "# y = np.arange(0, 2, delta)\n",
    "x = np.linspace(-1, 1, num=50)\n",
    "y = np.linspace(0, 2, num=50)\n",
    "\n",
    "X, Y = np.meshgrid(x, y)\n",
    "\n",
    "q_mu = sp.stats.norm.pdf(X, mu_N, np.sqrt(1/kappa_N))\n",
    "q_lambda = sp.stats.gamma.pdf(Y, a_N, 0, 1/b_N)\n",
    "# np.size(q_mu), np.size(q_lambda)\n",
    "\n",
    "Z = np.multiply(q_mu, q_lambda)\n",
    "# np.size(Z,0)\n",
    "\n",
    "plt.contour(X, Y, Z)\n",
    "# xlim(-1/10,1/10)\n",
    "# ylim(0.9,1.1)"
   ]
  }
 ],
 "metadata": {
  "kernelspec": {
   "display_name": "Python 2",
   "language": "python",
   "name": "python2"
  },
  "language_info": {
   "codemirror_mode": {
    "name": "ipython",
    "version": 2
   },
   "file_extension": ".py",
   "mimetype": "text/x-python",
   "name": "python",
   "nbconvert_exporter": "python",
   "pygments_lexer": "ipython2",
   "version": "2.7.13"
  }
 },
 "nbformat": 4,
 "nbformat_minor": 2
}
